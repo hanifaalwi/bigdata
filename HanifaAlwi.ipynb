{
  "nbformat": 4,
  "nbformat_minor": 0,
  "metadata": {
    "colab": {
      "name": "HanifaAlwi.ipynb",
      "provenance": [],
      "collapsed_sections": [],
      "authorship_tag": "ABX9TyOufqOGIoTw2K257GEAdQvV",
      "include_colab_link": true
    },
    "kernelspec": {
      "name": "python3",
      "display_name": "Python 3"
    },
    "language_info": {
      "name": "python"
    }
  },
  "cells": [
    {
      "cell_type": "markdown",
      "metadata": {
        "id": "view-in-github",
        "colab_type": "text"
      },
      "source": [
        "<a href=\"https://colab.research.google.com/github/hanifaalwi/bigdata/blob/main/HanifaAlwi.ipynb\" target=\"_parent\"><img src=\"https://colab.research.google.com/assets/colab-badge.svg\" alt=\"Open In Colab\"/></a>"
      ]
    },
    {
      "cell_type": "markdown",
      "metadata": {
        "id": "gSBgqC8ow-Kw"
      },
      "source": [
        "Menempelkan block kode : %paste dan %cpaste"
      ]
    },
    {
      "cell_type": "code",
      "metadata": {
        "id": "tmvH95FjvuHZ"
      },
      "source": [
        "def donothing(x):\n",
        "    return x"
      ],
      "execution_count": 4,
      "outputs": []
    },
    {
      "cell_type": "markdown",
      "metadata": {
        "id": "iencwhB1xRIf"
      },
      "source": [
        "Jikalau suatu kode kita paste secara langsung, maka yang akan muncul ketika python melakukan interpreter adalah sebuah error seperti kode dibawah"
      ]
    },
    {
      "cell_type": "code",
      "metadata": {
        "colab": {
          "base_uri": "https://localhost:8080/",
          "height": 131
        },
        "id": "LALnn2emwBKs",
        "outputId": "55f2b36a-2b82-49c5-b788-98e3153b5fc6"
      },
      "source": [
        ">>> def donothing(x):\n",
        " ... return x"
      ],
      "execution_count": 5,
      "outputs": [
        {
          "output_type": "error",
          "ename": "SyntaxError",
          "evalue": "ignored",
          "traceback": [
            "\u001b[0;36m  File \u001b[0;32m\"<ipython-input-5-da6cfc2740fd>\"\u001b[0;36m, line \u001b[0;32m2\u001b[0m\n\u001b[0;31m    ... return x\u001b[0m\n\u001b[0m             ^\u001b[0m\n\u001b[0;31mSyntaxError\u001b[0m\u001b[0;31m:\u001b[0m invalid syntax\n"
          ]
        }
      ]
    },
    {
      "cell_type": "markdown",
      "metadata": {
        "id": "gS8sUpXhwsex"
      },
      "source": [
        "Untuk mengatasi error tersebut IPython menyediakan fungsi %paste yang didesain untuk mengendalikan tipe miltiline yang tepat dengan contoh kode dibawah ini"
      ]
    },
    {
      "cell_type": "code",
      "metadata": {
        "id": "YyqlyFQKwJzI"
      },
      "source": [
        "%paste\n",
        "def donothing(x):\n",
        "    return x"
      ],
      "execution_count": null,
      "outputs": []
    },
    {
      "cell_type": "markdown",
      "metadata": {
        "id": "hf4WRShnx7Ak"
      },
      "source": [
        "Jika kita sudah menggunakan fungsi %paste maka untuk menjalankan suatu kode sudah bisa digunakan seperti kode dibawah"
      ]
    },
    {
      "cell_type": "code",
      "metadata": {
        "colab": {
          "base_uri": "https://localhost:8080/"
        },
        "id": "Yf-TUxPhwbXp",
        "outputId": "b2228149-61d7-47ab-a52e-9e6174e45964"
      },
      "source": [
        "donothing(10)"
      ],
      "execution_count": 8,
      "outputs": [
        {
          "output_type": "execute_result",
          "data": {
            "text/plain": [
              "10"
            ]
          },
          "metadata": {
            "tags": []
          },
          "execution_count": 8
        }
      ]
    },
    {
      "cell_type": "markdown",
      "metadata": {
        "id": "B1OXK1IGyseW"
      },
      "source": [
        "Hal yang sama juga berlaku pada %cpaste, yang membuka prompt multiline interaktif di mana kita bisa menempelkan satu atau beberapa potongan kode untuk dieksekusi dalam satu batch:\n",
        "\n",
        "Dengan catatan : Menempelkan kode; masukkan '-' saja pada baris untuk berhenti atau gunakan Ctrl-D."
      ]
    },
    {
      "cell_type": "code",
      "metadata": {
        "id": "IPmjAL4Ty1Gx"
      },
      "source": [
        "%cpaste\n",
        "def donothing(x):\n",
        "  return x\n"
      ],
      "execution_count": null,
      "outputs": []
    },
    {
      "cell_type": "markdown",
      "metadata": {
        "id": "l31g-exDzlyG"
      },
      "source": [
        "Menjalankan Kode Eksternal : %run\n",
        "Fungsi %run adalah untuk memudahkan menjalakna kode, dimana dari pada menjalankan kode di jendela baru, akan lebih mudah untuk menjalankannya dalam sesi IPython kita yang sudah ada\n"
      ]
    },
    {
      "cell_type": "code",
      "metadata": {
        "colab": {
          "base_uri": "https://localhost:8080/"
        },
        "id": "BMW-eoNF0kBe",
        "outputId": "8912f3af-0d84-4850-d968-e1e27e370d35"
      },
      "source": [
        "#-------------------------------------\n",
        "# file: myscript.py\n",
        "\n",
        "def square(x):\n",
        "    \"\"\"square a number\"\"\"\n",
        "    return x ** 2\n",
        "for N in range(1, 4):\n",
        "    print(N, \"squared is\", square(N))"
      ],
      "execution_count": 16,
      "outputs": [
        {
          "output_type": "stream",
          "text": [
            "1 squared is 1\n",
            "2 squared is 4\n",
            "3 squared is 9\n"
          ],
          "name": "stdout"
        }
      ]
    },
    {
      "cell_type": "markdown",
      "metadata": {
        "id": "gPguqCPe2By8"
      },
      "source": [
        "Untuk mempermudah kita dari pada harus memasukkan kode file lain ke skrip kita, maka cukup panggil dengan fungsi %run, seperti kode dibawah ini"
      ]
    },
    {
      "cell_type": "code",
      "metadata": {
        "colab": {
          "base_uri": "https://localhost:8080/"
        },
        "id": "eIhYAhAD1C5v",
        "outputId": "f4ab199a-b3c4-4b48-95e3-abdf91066774"
      },
      "source": [
        "%run myscript.py\n",
        "square(5)"
      ],
      "execution_count": 18,
      "outputs": [
        {
          "output_type": "stream",
          "text": [
            "ERROR:root:File `'myscript.py'` not found.\n"
          ],
          "name": "stderr"
        },
        {
          "output_type": "execute_result",
          "data": {
            "text/plain": [
              "25"
            ]
          },
          "metadata": {
            "tags": []
          },
          "execution_count": 18
        }
      ]
    },
    {
      "cell_type": "markdown",
      "metadata": {
        "id": "s5ziM1Pc2S2c"
      },
      "source": [
        "Eksekusi Kode Waktu : %timeit\n",
        "Yang secara otomatis akan menentukan waktu eksekusi pernyataan Python baris tunggal yang mengikutinya. Fungsinya adalah untuk perintah pendek, ia akan secara otomatis menjalankan beberapa proses untuk mendapatkan hasil yang lebih baik. seperti contoh dibawah"
      ]
    },
    {
      "cell_type": "code",
      "metadata": {
        "colab": {
          "base_uri": "https://localhost:8080/"
        },
        "id": "3w5oUTTj2vDQ",
        "outputId": "95c49d9e-79e9-484f-b49f-7141076bd27c"
      },
      "source": [
        "%timeit L = [n ** 2 for n in range(1000)]"
      ],
      "execution_count": 19,
      "outputs": [
        {
          "output_type": "stream",
          "text": [
            "1000 loops, best of 5: 261 µs per loop\n"
          ],
          "name": "stdout"
        }
      ]
    },
    {
      "cell_type": "markdown",
      "metadata": {
        "id": "Eh11e-uV3aJg"
      },
      "source": [
        "Jika ingin menggunakan fungsi %timeit dalam multiline maka cukup tambahkan % seperti kode dibawah"
      ]
    },
    {
      "cell_type": "code",
      "metadata": {
        "colab": {
          "base_uri": "https://localhost:8080/"
        },
        "id": "kt_ICWiP3kqP",
        "outputId": "3713622a-3f47-46ee-cb1f-c2479dd6b9ec"
      },
      "source": [
        "%%timeit\n",
        "L = []\n",
        "for n in range(1000):\n",
        "    L.append(n ** 2)"
      ],
      "execution_count": 20,
      "outputs": [
        {
          "output_type": "stream",
          "text": [
            "1000 loops, best of 5: 309 µs per loop\n"
          ],
          "name": "stdout"
        }
      ]
    },
    {
      "cell_type": "markdown",
      "metadata": {
        "id": "GBUC0LHe4MTa"
      },
      "source": [
        "Terdapat beberapa dokumentasi f=dari fungsi magic yang mana kita bisa memanggilnya dengan kode\n",
        "\n",
        "catatan : Akan muncul bantuan Docstring:, penjelasannya, contoh, juga link dari bantuan tersebut"
      ]
    },
    {
      "cell_type": "code",
      "metadata": {
        "id": "_qdLhET339pV"
      },
      "source": [
        "%timeit?"
      ],
      "execution_count": 21,
      "outputs": []
    },
    {
      "cell_type": "code",
      "metadata": {
        "id": "2ESGcJE84bnL"
      },
      "source": [
        "%magic"
      ],
      "execution_count": 22,
      "outputs": []
    },
    {
      "cell_type": "code",
      "metadata": {
        "colab": {
          "base_uri": "https://localhost:8080/",
          "height": 156
        },
        "id": "x54-_yND41-u",
        "outputId": "bcf8efbd-dda9-4a70-fa15-28989c1a6159"
      },
      "source": [
        "%lsmagic"
      ],
      "execution_count": 24,
      "outputs": [
        {
          "output_type": "execute_result",
          "data": {
            "application/json": {
              "cell": {
                "prun": "ExecutionMagics",
                "file": "Other",
                "!": "OSMagics",
                "capture": "ExecutionMagics",
                "timeit": "ExecutionMagics",
                "script": "ScriptMagics",
                "pypy": "Other",
                "system": "OSMagics",
                "perl": "Other",
                "html": "DisplayMagics",
                "bash": "Other",
                "shell": "Other",
                "HTML": "Other",
                "python": "Other",
                "SVG": "Other",
                "javascript": "DisplayMagics",
                "bigquery": "Other",
                "js": "DisplayMagics",
                "writefile": "OSMagics",
                "ruby": "Other",
                "python3": "Other",
                "python2": "Other",
                "latex": "DisplayMagics",
                "sx": "OSMagics",
                "svg": "DisplayMagics",
                "sh": "Other",
                "time": "ExecutionMagics",
                "debug": "ExecutionMagics"
              },
              "line": {
                "psource": "NamespaceMagics",
                "logstart": "LoggingMagics",
                "popd": "OSMagics",
                "tensorflow_version": "Other",
                "loadpy": "CodeMagics",
                "colors": "BasicMagics",
                "who_ls": "NamespaceMagics",
                "lf": "Other",
                "ll": "Other",
                "pprint": "BasicMagics",
                "lk": "Other",
                "ls": "Other",
                "save": "CodeMagics",
                "tb": "ExecutionMagics",
                "lx": "Other",
                "pylab": "PylabMagics",
                "killbgscripts": "ScriptMagics",
                "quickref": "BasicMagics",
                "magic": "BasicMagics",
                "dhist": "OSMagics",
                "edit": "KernelMagics",
                "logstop": "LoggingMagics",
                "gui": "BasicMagics",
                "prun": "ExecutionMagics",
                "debug": "ExecutionMagics",
                "page": "BasicMagics",
                "logstate": "LoggingMagics",
                "ed": "Other",
                "pushd": "OSMagics",
                "timeit": "ExecutionMagics",
                "set_env": "OSMagics",
                "rehashx": "OSMagics",
                "hist": "Other",
                "qtconsole": "KernelMagics",
                "rm": "Other",
                "dirs": "OSMagics",
                "run": "ExecutionMagics",
                "reset_selective": "NamespaceMagics",
                "pinfo2": "NamespaceMagics",
                "matplotlib": "PylabMagics",
                "unload_ext": "ExtensionMagics",
                "doctest_mode": "BasicMagics",
                "logoff": "LoggingMagics",
                "reload_ext": "ExtensionMagics",
                "pdb": "ExecutionMagics",
                "load": "CodeMagics",
                "lsmagic": "BasicMagics",
                "autosave": "KernelMagics",
                "cd": "OSMagics",
                "pastebin": "CodeMagics",
                "alias_magic": "BasicMagics",
                "cp": "Other",
                "autocall": "AutoMagics",
                "ldir": "Other",
                "bookmark": "OSMagics",
                "connect_info": "KernelMagics",
                "mkdir": "Other",
                "system": "OSMagics",
                "whos": "NamespaceMagics",
                "rmdir": "Other",
                "automagic": "AutoMagics",
                "store": "StoreMagics",
                "more": "KernelMagics",
                "shell": "Other",
                "pdef": "NamespaceMagics",
                "precision": "BasicMagics",
                "pinfo": "NamespaceMagics",
                "pwd": "OSMagics",
                "psearch": "NamespaceMagics",
                "reset": "NamespaceMagics",
                "recall": "HistoryMagics",
                "xdel": "NamespaceMagics",
                "xmode": "BasicMagics",
                "cat": "Other",
                "mv": "Other",
                "rerun": "HistoryMagics",
                "logon": "LoggingMagics",
                "history": "HistoryMagics",
                "pycat": "OSMagics",
                "pip": "Other",
                "unalias": "OSMagics",
                "env": "OSMagics",
                "load_ext": "ExtensionMagics",
                "config": "ConfigMagics",
                "profile": "BasicMagics",
                "pfile": "NamespaceMagics",
                "less": "KernelMagics",
                "who": "NamespaceMagics",
                "notebook": "BasicMagics",
                "man": "KernelMagics",
                "sx": "OSMagics",
                "macro": "ExecutionMagics",
                "clear": "KernelMagics",
                "alias": "OSMagics",
                "time": "ExecutionMagics",
                "sc": "OSMagics",
                "rep": "Other",
                "pdoc": "NamespaceMagics"
              }
            },
            "text/plain": [
              "Available line magics:\n",
              "%alias  %alias_magic  %autocall  %automagic  %autosave  %bookmark  %cat  %cd  %clear  %colors  %config  %connect_info  %cp  %debug  %dhist  %dirs  %doctest_mode  %ed  %edit  %env  %gui  %hist  %history  %killbgscripts  %ldir  %less  %lf  %lk  %ll  %load  %load_ext  %loadpy  %logoff  %logon  %logstart  %logstate  %logstop  %ls  %lsmagic  %lx  %macro  %magic  %man  %matplotlib  %mkdir  %more  %mv  %notebook  %page  %pastebin  %pdb  %pdef  %pdoc  %pfile  %pinfo  %pinfo2  %pip  %popd  %pprint  %precision  %profile  %prun  %psearch  %psource  %pushd  %pwd  %pycat  %pylab  %qtconsole  %quickref  %recall  %rehashx  %reload_ext  %rep  %rerun  %reset  %reset_selective  %rm  %rmdir  %run  %save  %sc  %set_env  %shell  %store  %sx  %system  %tb  %tensorflow_version  %time  %timeit  %unalias  %unload_ext  %who  %who_ls  %whos  %xdel  %xmode\n",
              "\n",
              "Available cell magics:\n",
              "%%!  %%HTML  %%SVG  %%bash  %%bigquery  %%capture  %%debug  %%file  %%html  %%javascript  %%js  %%latex  %%perl  %%prun  %%pypy  %%python  %%python2  %%python3  %%ruby  %%script  %%sh  %%shell  %%svg  %%sx  %%system  %%time  %%timeit  %%writefile\n",
              "\n",
              "Automagic is ON, % prefix IS NOT needed for line magics."
            ]
          },
          "metadata": {
            "tags": []
          },
          "execution_count": 24
        }
      ]
    },
    {
      "cell_type": "markdown",
      "metadata": {
        "id": "zfIEg5J_5Mvl"
      },
      "source": [
        "Rekap Input dan Output \n",
        "1. Objek Masuk dan Keluar IPython, dimana kita bisa memasukkan sesuatu fungsi untuk mempermudah menjalankan kode, contohnya"
      ]
    },
    {
      "cell_type": "code",
      "metadata": {
        "id": "jB_EjQtc6Q14"
      },
      "source": [
        "import math"
      ],
      "execution_count": 25,
      "outputs": []
    },
    {
      "cell_type": "code",
      "metadata": {
        "colab": {
          "base_uri": "https://localhost:8080/"
        },
        "id": "xdNWJWmx6Tsp",
        "outputId": "3f046241-7bb1-449d-9d57-9400a0943b84"
      },
      "source": [
        "math.sin(2)"
      ],
      "execution_count": 26,
      "outputs": [
        {
          "output_type": "execute_result",
          "data": {
            "text/plain": [
              "0.9092974268256817"
            ]
          },
          "metadata": {
            "tags": []
          },
          "execution_count": 26
        }
      ]
    },
    {
      "cell_type": "code",
      "metadata": {
        "colab": {
          "base_uri": "https://localhost:8080/"
        },
        "id": "u-T9B5jV6Xot",
        "outputId": "29516fed-85aa-47d3-97ef-77270ce04638"
      },
      "source": [
        "math.cos(2)"
      ],
      "execution_count": 27,
      "outputs": [
        {
          "output_type": "execute_result",
          "data": {
            "text/plain": [
              "-0.4161468365471424"
            ]
          },
          "metadata": {
            "tags": []
          },
          "execution_count": 27
        }
      ]
    },
    {
      "cell_type": "markdown",
      "metadata": {
        "id": "zko5dlZK6eZR"
      },
      "source": [
        "Atau juga bisa dengan cara yang lebih mudah dengan print(In), namun kita harus mendefinisikan in terlebih dahulu, jika tidak maka akan terjadi hal seperti dibawah yaitu akan menampilkan semua kode yang telha kita masukkan sebelumnya"
      ]
    },
    {
      "cell_type": "code",
      "metadata": {
        "colab": {
          "base_uri": "https://localhost:8080/"
        },
        "id": "tvWcoemJ6tLw",
        "outputId": "bbd7f7af-1c20-4faa-f5b5-5c7c5b309351"
      },
      "source": [
        "print(In)"
      ],
      "execution_count": 33,
      "outputs": [
        {
          "output_type": "stream",
          "text": [
            "['', '\\ndef donothing(x):\\nreturn x', 'def donothing(x):\\nreturn x', \"get_ipython().magic('paste')\\n>>> def donothing(x):\\n... return x\\n## -- End pasted text --\\n\\ndonothing(10)\", 'def donothing(x):\\n    return x', 'def donothing(x):\\n ... return x', \"get_ipython().magic('paste')\\ndef donothing(x):\\n    return x\", \"get_ipython().magic('paste')\\ndef donothing(x):\\n    return x\", 'donothing(10)', \"get_ipython().magic('cpaste')\\nPasting code; enter '--' alone on the line to stop or use Ctrl-D.\\ndef donothing(x):\\nreturn x\", \"get_ipython().magic('cpaste')\\ndef donothing(x):\\nreturn x\", \"get_ipython().magic('cpaste')\\ndef donothing(x):\\n  return x\", '#-------------------------------------\\n# file: myscript.py\\n\\ndef square(x):\\n\"\"\"square a number\"\"\"\\nreturn x ** 2\\nfor N in range(1, 4):\\nprint(N, \"squared is\", square(N))\\n\\nget_ipython().magic(\\'run myscript.py\\')\\n1 squared is 1\\n2 squared is 4\\n3 squared is 9', '#-------------------------------------\\n# file: myscript.py\\n\\ndef square(x):\\n    \"\"\"square a number\"\"\"\\nreturn x ** 2\\nfor N in range(1, 4):\\nprint(N, \"squared is\", square(N))\\n\\nget_ipython().magic(\\'run myscript.py\\')\\n1 squared is 1\\n2 squared is 4\\n3 squared is 9', '#-------------------------------------\\n# file: myscript.py\\n\\ndef square(x):\\n    \"\"\"square a number\"\"\"\\n    return x ** 2\\nfor N in range(1, 4):\\n    print(N, \"squared is\", square(N))\\n\\nget_ipython().magic(\\'run myscript.py\\')\\n1 squared is 1\\n2 squared is 4\\n3 squared is 9', 'square(5)', '#-------------------------------------\\n# file: myscript.py\\n\\ndef square(x):\\n    \"\"\"square a number\"\"\"\\n    return x ** 2\\nfor N in range(1, 4):\\n    print(N, \"squared is\", square(N))', \"get_ipython().magic('run')\\nsquare(5)\", \"get_ipython().magic('run myscript.py')\\nsquare(5)\", \"get_ipython().magic('timeit L = [n ** 2 for n in range(1000)]')\", \"get_ipython().run_cell_magic('timeit', '', 'L = []\\\\nfor n in range(1000):\\\\n    L.append(n ** 2)')\", \"get_ipython().magic('pinfo %timeit')\", \"get_ipython().magic('magic')\", \"get_ipython().magic('Ismagic')\", \"get_ipython().magic('lsmagic')\", 'import math', 'math.sin(2)', 'math.cos(2)', \"print(In)\\n['', 'import math', 'math.sin(2)', 'math.cos(2)', 'print(In)']\", 'Out', \"print(In)\\n  ['', 'import math', 'math.sin(2)', 'math.cos(2)', 'print(In)']\", \"print(In)\\n['', 'import math', 'math.sin(2)', 'math.cos(2)', 'print(In)']\", 'print(In[25])', 'print(In)']\n"
          ],
          "name": "stdout"
        }
      ]
    },
    {
      "cell_type": "code",
      "metadata": {
        "colab": {
          "base_uri": "https://localhost:8080/"
        },
        "id": "0CnIuI6L7H83",
        "outputId": "ad0efb7a-3943-47d0-d097-4b88e4a7416a"
      },
      "source": [
        "Out"
      ],
      "execution_count": 29,
      "outputs": [
        {
          "output_type": "execute_result",
          "data": {
            "text/plain": [
              "{8: 10,\n",
              " 17: 25,\n",
              " 18: 25,\n",
              " 24: Available line magics:\n",
              "%alias  %alias_magic  %autocall  %automagic  %autosave  %bookmark  %cat  %cd  %clear  %colors  %config  %connect_info  %cp  %debug  %dhist  %dirs  %doctest_mode  %ed  %edit  %env  %gui  %hist  %history  %killbgscripts  %ldir  %less  %lf  %lk  %ll  %load  %load_ext  %loadpy  %logoff  %logon  %logstart  %logstate  %logstop  %ls  %lsmagic  %lx  %macro  %magic  %man  %matplotlib  %mkdir  %more  %mv  %notebook  %page  %pastebin  %pdb  %pdef  %pdoc  %pfile  %pinfo  %pinfo2  %pip  %popd  %pprint  %precision  %profile  %prun  %psearch  %psource  %pushd  %pwd  %pycat  %pylab  %qtconsole  %quickref  %recall  %rehashx  %reload_ext  %rep  %rerun  %reset  %reset_selective  %rm  %rmdir  %run  %save  %sc  %set_env  %shell  %store  %sx  %system  %tb  %tensorflow_version  %time  %timeit  %unalias  %unload_ext  %who  %who_ls  %whos  %xdel  %xmode\n",
              "\n",
              "Available cell magics:\n",
              "%%!  %%HTML  %%SVG  %%bash  %%bigquery  %%capture  %%debug  %%file  %%html  %%javascript  %%js  %%latex  %%perl  %%prun  %%pypy  %%python  %%python2  %%python3  %%ruby  %%script  %%sh  %%shell  %%svg  %%sx  %%system  %%time  %%timeit  %%writefile\n",
              "\n",
              "Automagic is ON, % prefix IS NOT needed for line magics.,\n",
              " 26: 0.9092974268256817,\n",
              " 27: -0.4161468365471424,\n",
              " 28: ['', 'import math', 'math.sin(2)', 'math.cos(2)', 'print(In)']}"
            ]
          },
          "metadata": {
            "tags": []
          },
          "execution_count": 29
        }
      ]
    },
    {
      "cell_type": "markdown",
      "metadata": {
        "id": "2G5Mbdaf7_Ct"
      },
      "source": [
        "In yang telah didefinisikan, contoh"
      ]
    },
    {
      "cell_type": "code",
      "metadata": {
        "colab": {
          "base_uri": "https://localhost:8080/"
        },
        "id": "Jbr_DcrM8DhD",
        "outputId": "f17e8a40-f7e5-4c94-bb40-a23d5c3a544d"
      },
      "source": [
        "print(In[25])"
      ],
      "execution_count": 32,
      "outputs": [
        {
          "output_type": "stream",
          "text": [
            "import math\n"
          ],
          "name": "stdout"
        }
      ]
    },
    {
      "cell_type": "code",
      "metadata": {
        "colab": {
          "base_uri": "https://localhost:8080/"
        },
        "id": "gVdiV9Jn8h8d",
        "outputId": "dd61dbad-303d-45e0-f90a-2364251e3418"
      },
      "source": [
        "print(Out[26])"
      ],
      "execution_count": 34,
      "outputs": [
        {
          "output_type": "stream",
          "text": [
            "0.9092974268256817\n"
          ],
          "name": "stdout"
        }
      ]
    },
    {
      "cell_type": "markdown",
      "metadata": {
        "id": "diPG8nT19J1V"
      },
      "source": [
        "Hanya saja tidak semua operasi memiliki keluaran: misalnya, pernyataan impor dan pernyataan cetak tidak memengaruhi keluaran. \n",
        "Manfaat lainnya kita bisa berinteraksi dengan hasil sebelumnya. contoh :"
      ]
    },
    {
      "cell_type": "code",
      "metadata": {
        "colab": {
          "base_uri": "https://localhost:8080/"
        },
        "id": "yCMEIHmp9ehA",
        "outputId": "90a69c49-2fd1-4941-c3e5-908423f455cb"
      },
      "source": [
        "Out[26] ** 2 + Out[27] ** 2"
      ],
      "execution_count": 36,
      "outputs": [
        {
          "output_type": "execute_result",
          "data": {
            "text/plain": [
              "1.0"
            ]
          },
          "metadata": {
            "tags": []
          },
          "execution_count": 36
        }
      ]
    },
    {
      "cell_type": "markdown",
      "metadata": {
        "id": "pC9t60PP9qFT"
      },
      "source": [
        "2. Garis bawahi Pintasan dan Keluaran Sebelumnya\n",
        "Shell Python standar hanya berisi satu pintasan sederhana untuk mengakses keluaran sebelumnya dengan variabel _ (yaitu, garis bawah tunggal), contoh :"
      ]
    },
    {
      "cell_type": "code",
      "metadata": {
        "colab": {
          "base_uri": "https://localhost:8080/"
        },
        "id": "GqUN9kR999ki",
        "outputId": "55ddf369-1c46-4112-efba-525bffc30eaa"
      },
      "source": [
        "print(_)"
      ],
      "execution_count": 37,
      "outputs": [
        {
          "output_type": "stream",
          "text": [
            "1.0\n"
          ],
          "name": "stdout"
        }
      ]
    },
    {
      "cell_type": "code",
      "metadata": {
        "colab": {
          "base_uri": "https://localhost:8080/"
        },
        "id": "6evfTtt9-Cr-",
        "outputId": "9d01cd26-468e-468c-bb3f-4187ce63f339"
      },
      "source": [
        "print(__)"
      ],
      "execution_count": 38,
      "outputs": [
        {
          "output_type": "stream",
          "text": [
            "['', 'import math', 'math.sin(2)', 'math.cos(2)', 'print(In)']\n"
          ],
          "name": "stdout"
        }
      ]
    },
    {
      "cell_type": "markdown",
      "metadata": {
        "id": "XEhPkI3g-bLb"
      },
      "source": [
        "Dimana semakin banyak _ maka akan semakin kebelakang data yang akan ditampilkan sesuai urutan runnya. Namun untuk membuatnya mudah kita bisa menggunakan fungsi berikut :"
      ]
    },
    {
      "cell_type": "code",
      "metadata": {
        "colab": {
          "base_uri": "https://localhost:8080/"
        },
        "id": "scbFg3lI-vO7",
        "outputId": "a030bdf1-6f1e-4be2-dd13-5807a1fe27ac"
      },
      "source": [
        "Out[26]"
      ],
      "execution_count": 40,
      "outputs": [
        {
          "output_type": "execute_result",
          "data": {
            "text/plain": [
              "0.9092974268256817"
            ]
          },
          "metadata": {
            "tags": []
          },
          "execution_count": 40
        }
      ]
    },
    {
      "cell_type": "code",
      "metadata": {
        "colab": {
          "base_uri": "https://localhost:8080/"
        },
        "id": "74u35S36-yQP",
        "outputId": "0c1033b3-2e6a-485a-c055-e6ee212ea28b"
      },
      "source": [
        "_26"
      ],
      "execution_count": 41,
      "outputs": [
        {
          "output_type": "execute_result",
          "data": {
            "text/plain": [
              "0.9092974268256817"
            ]
          },
          "metadata": {
            "tags": []
          },
          "execution_count": 41
        }
      ]
    },
    {
      "cell_type": "markdown",
      "metadata": {
        "id": "Ng_1HWWI-0xc"
      },
      "source": [
        "3. Menekan Output\n",
        "Fungsi dimana kita bisa manghapus kodingan atau keluaran atau masukan yang tidak sesuai dengan keinginan, contoh :"
      ]
    },
    {
      "cell_type": "code",
      "metadata": {
        "id": "pEwq6pnD_VZ5"
      },
      "source": [
        "math.sin(2) + math.cos(2);"
      ],
      "execution_count": 43,
      "outputs": []
    },
    {
      "cell_type": "code",
      "metadata": {
        "id": "1thwt9SW_b81"
      },
      "source": [
        "karena fungsi diatas hasilnya dihitung secara diam-diam, dan hasilnya tidak ditampilkan di\n",
        "layar atau disimpan dalam kamus Keluar, maka :"
      ],
      "execution_count": null,
      "outputs": []
    },
    {
      "cell_type": "code",
      "metadata": {
        "colab": {
          "base_uri": "https://localhost:8080/"
        },
        "id": "RD6E_Vra_trG",
        "outputId": "2b86af5d-9fc0-456e-bbe4-9da02ce03db7"
      },
      "source": [
        "43 in Out"
      ],
      "execution_count": 44,
      "outputs": [
        {
          "output_type": "execute_result",
          "data": {
            "text/plain": [
              "False"
            ]
          },
          "metadata": {
            "tags": []
          },
          "execution_count": 44
        }
      ]
    },
    {
      "cell_type": "markdown",
      "metadata": {
        "id": "3srtOUvBAA7_"
      },
      "source": [
        "4. Perintah Sihir Terkait\n",
        "Digunakan untuk mengakses sekumpulan input sebelumnya sekaligus, perintah sihir %history adalah\n",
        "sangat membantu. contoh :"
      ]
    },
    {
      "cell_type": "code",
      "metadata": {
        "colab": {
          "base_uri": "https://localhost:8080/"
        },
        "id": "U8-9Q_wfAO5Y",
        "outputId": "f48c18a5-708c-460d-8395-1b7cb0b486de"
      },
      "source": [
        "%history -n 25-27"
      ],
      "execution_count": 45,
      "outputs": [
        {
          "output_type": "stream",
          "text": [
            "  25: import math\n",
            "  26: math.sin(2)\n",
            "  27: math.cos(2)\n"
          ],
          "name": "stdout"
        }
      ]
    },
    {
      "cell_type": "code",
      "metadata": {
        "id": "mmvvIIx2BpFP"
      },
      "source": [
        "Perintah IPython dan Shell\n",
        "Shell adalah cara untuk berinteraksi secara tekstual dengan komputer Anda.\n",
        "\n",
        "1. Perintah Shell di IPython\n",
        "Kita dapat menggunakan perintah apa pun yang berfungsi pada baris perintah di IPython dengan mengawalnya\n",
        "dengan !. contoh :"
      ],
      "execution_count": null,
      "outputs": []
    },
    {
      "cell_type": "code",
      "metadata": {
        "colab": {
          "base_uri": "https://localhost:8080/"
        },
        "id": "ftJ3fU7MBvk-",
        "outputId": "a8aa55cb-a74d-4fca-87ca-f146a7726ff5"
      },
      "source": [
        "!ls"
      ],
      "execution_count": 46,
      "outputs": [
        {
          "output_type": "stream",
          "text": [
            "sample_data\n"
          ],
          "name": "stdout"
        }
      ]
    },
    {
      "cell_type": "code",
      "metadata": {
        "colab": {
          "base_uri": "https://localhost:8080/"
        },
        "id": "YT_Rf_LKCgP0",
        "outputId": "39b891ba-1019-4568-8bb9-e21e01cb7073"
      },
      "source": [
        "!pwd"
      ],
      "execution_count": 47,
      "outputs": [
        {
          "output_type": "stream",
          "text": [
            "/content\n"
          ],
          "name": "stdout"
        }
      ]
    },
    {
      "cell_type": "code",
      "metadata": {
        "colab": {
          "base_uri": "https://localhost:8080/"
        },
        "id": "tPHDvjLFCjkK",
        "outputId": "caa57f2b-fa8d-4218-a7d7-1941e911525e"
      },
      "source": [
        "!echo \"printing from the shell\""
      ],
      "execution_count": 48,
      "outputs": [
        {
          "output_type": "stream",
          "text": [
            "printing from the shell\n"
          ],
          "name": "stdout"
        }
      ]
    },
    {
      "cell_type": "markdown",
      "metadata": {
        "id": "oMbXZZt1CqHl"
      },
      "source": [
        "2. Meneruskan Nilai ke dan dari Shell\n",
        "Perintah shell tidak hanya dapat dipanggil dari IPython, tetapi juga dapat dibuat untuk berinteraksi dengan namespace IPython. Contoh kita dapat menyimpan output dari perintah shell ke daftar Python menggunakan operator penugasan:"
      ]
    },
    {
      "cell_type": "code",
      "metadata": {
        "id": "JmVuVbo8DFaY"
      },
      "source": [
        "contents = !ls"
      ],
      "execution_count": 49,
      "outputs": []
    },
    {
      "cell_type": "code",
      "metadata": {
        "colab": {
          "base_uri": "https://localhost:8080/"
        },
        "id": "lHjAoOiFDJOv",
        "outputId": "ea8c3983-9305-4049-b4d0-d6bac65c53e8"
      },
      "source": [
        "print(contents)"
      ],
      "execution_count": 50,
      "outputs": [
        {
          "output_type": "stream",
          "text": [
            "['sample_data']\n"
          ],
          "name": "stdout"
        }
      ]
    },
    {
      "cell_type": "code",
      "metadata": {
        "id": "mMBXjO-sDMHS"
      },
      "source": [
        "directory = !pwd"
      ],
      "execution_count": 51,
      "outputs": []
    },
    {
      "cell_type": "code",
      "metadata": {
        "colab": {
          "base_uri": "https://localhost:8080/"
        },
        "id": "uRGw6V8vDOLz",
        "outputId": "e9169301-7d1a-405b-91cf-3ce7937a4148"
      },
      "source": [
        "print(directory)"
      ],
      "execution_count": 52,
      "outputs": [
        {
          "output_type": "stream",
          "text": [
            "['/content']\n"
          ],
          "name": "stdout"
        }
      ]
    },
    {
      "cell_type": "markdown",
      "metadata": {
        "id": "7eK3J6bXDZW2"
      },
      "source": [
        "Perhatikan bahwa hasil tidak dikembalikan dalam bentuk daftar, tetapi dalam bentuk tipe pengembalian shell khusus didefinisikan oleh IPython:"
      ]
    },
    {
      "cell_type": "code",
      "metadata": {
        "colab": {
          "base_uri": "https://localhost:8080/"
        },
        "id": "nG_dll3wDhO-",
        "outputId": "9c99c59d-bf2a-4adc-b075-1ab02026ce88"
      },
      "source": [
        "type(directory)"
      ],
      "execution_count": 53,
      "outputs": [
        {
          "output_type": "execute_result",
          "data": {
            "text/plain": [
              "IPython.utils.text.SList"
            ]
          },
          "metadata": {
            "tags": []
          },
          "execution_count": 53
        }
      ]
    },
    {
      "cell_type": "markdown",
      "metadata": {
        "id": "JCLHko8cEklv"
      },
      "source": [
        "Fungsi lain seperti meneruskan variabel Python ke dalam shell melalui sintaks {varname}:"
      ]
    },
    {
      "cell_type": "code",
      "metadata": {
        "id": "09XWwO9JEtDA"
      },
      "source": [
        "message = \"hello from Python\""
      ],
      "execution_count": 54,
      "outputs": []
    },
    {
      "cell_type": "code",
      "metadata": {
        "colab": {
          "base_uri": "https://localhost:8080/"
        },
        "id": "gkLQu6NcExuR",
        "outputId": "9d95351b-6674-4114-aef0-a8b27a63082e"
      },
      "source": [
        "!echo {message}"
      ],
      "execution_count": 55,
      "outputs": [
        {
          "output_type": "stream",
          "text": [
            "hello from Python\n"
          ],
          "name": "stdout"
        }
      ]
    },
    {
      "cell_type": "markdown",
      "metadata": {
        "id": "CzV5twg-FG3Y"
      },
      "source": [
        "3. Perintah Sihir Terkait Kerang\n",
        "kita tidak bisa menggunakan ! untuk memanggil perintah cd, namun kita bisa menggunakan perintah %"
      ]
    },
    {
      "cell_type": "code",
      "metadata": {
        "colab": {
          "base_uri": "https://localhost:8080/"
        },
        "id": "dtvZUKP4FXh0",
        "outputId": "0b4a897f-b391-4468-b8a8-22a399a6135c"
      },
      "source": [
        "!pwd"
      ],
      "execution_count": 56,
      "outputs": [
        {
          "output_type": "stream",
          "text": [
            "/content\n"
          ],
          "name": "stdout"
        }
      ]
    },
    {
      "cell_type": "code",
      "metadata": {
        "id": "HKcb1EHRFaUK"
      },
      "source": [
        "!cd "
      ],
      "execution_count": 57,
      "outputs": []
    },
    {
      "cell_type": "code",
      "metadata": {
        "colab": {
          "base_uri": "https://localhost:8080/"
        },
        "id": "AtWSDLe6Few_",
        "outputId": "7f5b4420-9748-48a3-cf0b-4a7084f8be79"
      },
      "source": [
        "!pwd"
      ],
      "execution_count": 58,
      "outputs": [
        {
          "output_type": "stream",
          "text": [
            "/content\n"
          ],
          "name": "stdout"
        }
      ]
    },
    {
      "cell_type": "code",
      "metadata": {
        "colab": {
          "base_uri": "https://localhost:8080/"
        },
        "id": "6QtcMXfwFio7",
        "outputId": "6add0e86-88e1-4eaf-e974-c025b481ad1e"
      },
      "source": [
        "%cd "
      ],
      "execution_count": 59,
      "outputs": [
        {
          "output_type": "stream",
          "text": [
            "/root\n"
          ],
          "name": "stdout"
        }
      ]
    },
    {
      "cell_type": "markdown",
      "metadata": {
        "id": "iBZ0lABrFzIz"
      },
      "source": [
        "atau menjalakan tanpa tanda %"
      ]
    },
    {
      "cell_type": "code",
      "metadata": {
        "colab": {
          "base_uri": "https://localhost:8080/"
        },
        "id": "zD8EM_Q2FmVE",
        "outputId": "d348befa-4448-4e6d-b20e-f30ef9a0dcfc"
      },
      "source": [
        "cd myproject"
      ],
      "execution_count": 61,
      "outputs": [
        {
          "output_type": "stream",
          "text": [
            "[Errno 2] No such file or directory: 'myproject'\n",
            "/root\n"
          ],
          "name": "stdout"
        }
      ]
    },
    {
      "cell_type": "markdown",
      "metadata": {
        "id": "eOltaGacF8pZ"
      },
      "source": [
        "Ini dikenal sebagai fungsi automagic, dan perilaku ini dapat diubah dengan fungsi %automagic.\n",
        "Selain% cd, fungsi ajaib seperti shell lainnya yang tersedia adalah %cat,%cp,%env, %ls, %man, %mkdir, %more, %mv, %pwd, %rm, dan %rmdir, yang mana saja dapat digunakan tanpa tanda % jika automagic aktif."
      ]
    },
    {
      "cell_type": "code",
      "metadata": {
        "id": "S-S1ApEwF8O3"
      },
      "source": [
        "mkdir tmp"
      ],
      "execution_count": 62,
      "outputs": []
    },
    {
      "cell_type": "code",
      "metadata": {
        "colab": {
          "base_uri": "https://localhost:8080/"
        },
        "id": "MJDVVtifGiBG",
        "outputId": "654d6a0b-dd20-4545-e48c-1b25c106eaad"
      },
      "source": [
        "ls"
      ],
      "execution_count": 63,
      "outputs": [
        {
          "output_type": "stream",
          "text": [
            "\u001b[0m\u001b[01;34mtmp\u001b[0m/\n"
          ],
          "name": "stdout"
        }
      ]
    },
    {
      "cell_type": "code",
      "metadata": {
        "id": "XHGDcqIoGj6n"
      },
      "source": [
        "cp myproject.txt tmp/"
      ],
      "execution_count": null,
      "outputs": []
    },
    {
      "cell_type": "code",
      "metadata": {
        "id": "kL9GeNvrGocH"
      },
      "source": [
        "ls tmp"
      ],
      "execution_count": 65,
      "outputs": []
    },
    {
      "cell_type": "code",
      "metadata": {
        "id": "R_8XEGJNGtJs"
      },
      "source": [
        "rm -r tmp"
      ],
      "execution_count": 66,
      "outputs": []
    }
  ]
}